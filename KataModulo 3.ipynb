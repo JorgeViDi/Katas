{
 "cells": [
  {
   "cell_type": "markdown",
   "metadata": {},
   "source": [
    "Advertencia de Asteroide\n"
   ]
  },
  {
   "cell_type": "code",
   "execution_count": 12,
   "metadata": {},
   "outputs": [
    {
     "name": "stdout",
     "output_type": "stream",
     "text": [
      "Estamos seguros\n"
     ]
    }
   ],
   "source": [
    "velocidad_asteroide = 19\n",
    "if (velocidad_asteroide > 49):\n",
    "    print (\"Advertencia\")\n",
    "else:\n",
    "    print (\"Estamos seguros\")"
   ]
  },
  {
   "cell_type": "code",
   "execution_count": 19,
   "metadata": {},
   "outputs": [
    {
     "name": "stdout",
     "output_type": "stream",
     "text": [
      "No hay nada que ver\n"
     ]
    }
   ],
   "source": [
    "Asteroide = 19\n",
    "if Asteroide >= 20:\n",
    "    print (\"Asteroide en la atmosfera, busca su luz\")\n",
    "elif Asteroide == 20:\n",
    "    print (\"Asteroide en la atmosfera, busca su luz\")\n",
    "else:\n",
    "    print (\"No hay nada que ver\")\n"
   ]
  },
  {
   "cell_type": "code",
   "execution_count": 25,
   "metadata": {},
   "outputs": [
    {
     "name": "stdout",
     "output_type": "stream",
     "text": [
      "Busca la luz en el cielo\n"
     ]
    }
   ],
   "source": [
    "tamano_asteroide = 24\n",
    "velocidad_asteroide = 24\n",
    "if tamano_asteroide >25 and tamano_asteroide <1000 or velocidad_asteroide >25:\n",
    "   print(\"advertencia\")\n",
    "elif tamano_asteroide <= 25:\n",
    "    print(\"Busca la luz en el cielo\")\n",
    "else:\n",
    "    print (\"todo esta bien\")"
   ]
  }
 ],
 "metadata": {
  "interpreter": {
   "hash": "58e01c3ab55b05731f990fa3347af911d25b1f0f48756420b4b1a87f1be77c66"
  },
  "kernelspec": {
   "display_name": "Python 3.9.10 64-bit (windows store)",
   "language": "python",
   "name": "python3"
  },
  "language_info": {
   "codemirror_mode": {
    "name": "ipython",
    "version": 3
   },
   "file_extension": ".py",
   "mimetype": "text/x-python",
   "name": "python",
   "nbconvert_exporter": "python",
   "pygments_lexer": "ipython3",
   "version": "3.9.10"
  },
  "orig_nbformat": 4
 },
 "nbformat": 4,
 "nbformat_minor": 2
}
